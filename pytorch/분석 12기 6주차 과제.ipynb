{
 "cells": [
  {
   "cell_type": "markdown",
   "metadata": {
    "colab_type": "text",
    "id": "LXHZY9eP_32G"
   },
   "source": [
    "## 0. Google Colab 사용하기"
   ]
  },
  {
   "cell_type": "markdown",
   "metadata": {
    "colab_type": "text",
    "id": "amsQv2HJ_80D"
   },
   "source": [
    "- Colab 사용법은 [변성윤 선배님의 블로그](https://zzsza.github.io/data/2018/08/30/google-colab/)를 참고해주세요.\n",
    "- 공식 홈페이지 [document](https://colab.research.google.com/notebooks/welcome.ipynb)도 좋습니다."
   ]
  },
  {
   "cell_type": "markdown",
   "metadata": {
    "colab_type": "text",
    "id": "RGXQFcG1B3nn"
   },
   "source": [
    "## 1. Pytorch 연습하기"
   ]
  },
  {
   "cell_type": "markdown",
   "metadata": {
    "colab_type": "text",
    "id": "dcDozxxCB6N2"
   },
   "source": [
    "- 먼저 [Pytorch-A-to-Z](https://github.com/shwksl101/Pytorch-A-to-Z) 에서 1~3까지 필사해서 밑에다가 써주세요.\n",
    "- 질문은 주석으로 달아놓고 코드 리뷰 시간에 이야기해보면 좋을 것 같습니다.\n",
    "- 오류가 있을 수 있으니 이상한 부분이 있으면 질문 부탁드립니다.\n",
    "\n",
    "(Optional)\n",
    "- 다음은 개인적으로 최윤제님의 [Pytorch tutorial](https://github.com/yunjey/pytorch-tutorial)을 추천드립니다.\n",
    "- GPU 사용법은 다음 [링크](https://pytorch.org/docs/stable/notes/cuda.html)를 참고해주세요."
   ]
  },
  {
   "cell_type": "code",
   "execution_count": 2,
   "metadata": {
    "colab": {},
    "colab_type": "code",
    "id": "m3f4v8Sc9Ywf"
   },
   "outputs": [
    {
     "ename": "ModuleNotFoundError",
     "evalue": "No module named 'torch'",
     "output_type": "error",
     "traceback": [
      "\u001b[1;31m---------------------------------------------------------------------------\u001b[0m",
      "\u001b[1;31mModuleNotFoundError\u001b[0m                       Traceback (most recent call last)",
      "\u001b[1;32m<ipython-input-2-c92f3ea41741>\u001b[0m in \u001b[0;36m<module>\u001b[1;34m()\u001b[0m\n\u001b[0;32m      1\u001b[0m \u001b[1;32mfrom\u001b[0m \u001b[0m__future__\u001b[0m \u001b[1;32mimport\u001b[0m \u001b[0mprint_function\u001b[0m\u001b[1;33m\u001b[0m\u001b[0m\n\u001b[1;32m----> 2\u001b[1;33m \u001b[1;32mimport\u001b[0m \u001b[0mtorch\u001b[0m\u001b[1;33m\u001b[0m\u001b[0m\n\u001b[0m",
      "\u001b[1;31mModuleNotFoundError\u001b[0m: No module named 'torch'"
     ]
    }
   ],
   "source": [
    "from __future__ import print_function\n",
    "import torch"
   ]
  },
  {
   "cell_type": "markdown",
   "metadata": {
    "colab_type": "text",
    "id": "NWZuY8jj7e5s"
   },
   "source": [
    "## 2. Regression 연습하기\n",
    "\n",
    "- [house price](https://www.kaggle.com/c/house-prices-advanced-regression-techniques/data)에서 train data를 받아주세요\n",
    "- train/test set을 7:3 비율로 나누세요\n",
    "- Pytorch 라이브러리를 이용해 최대한의 성능을 내보세요\n",
    "- Metric은 RMSE를 사용해 계산해주세요"
   ]
  },
  {
   "cell_type": "code",
   "execution_count": 0,
   "metadata": {
    "colab": {},
    "colab_type": "code",
    "id": "9KmHO-NkwHLX"
   },
   "outputs": [],
   "source": [
    "import torch\n",
    "import torch.nn as nn\n",
    "import torch.optim as optim"
   ]
  },
  {
   "cell_type": "markdown",
   "metadata": {
    "colab_type": "text",
    "id": "4kokxhYQ84Hu"
   },
   "source": [
    "## 3. Classification 연습하기\n",
    "- [mushroom](https://www.kaggle.com/uciml/mushroom-classification)에서 data를 받아주세요\n",
    "- train/test set을 7:3 비율로 나누세요\n",
    "- Pytorch 라이브러리를 이용해 최대한의 성능을 내보세요\n",
    "- Metric은 accuracy을 사용해 계산해주세요"
   ]
  },
  {
   "cell_type": "code",
   "execution_count": 0,
   "metadata": {
    "colab": {},
    "colab_type": "code",
    "id": "M0UkMax_wJZ_"
   },
   "outputs": [],
   "source": [
    "import torch\n",
    "import torch.nn as nn\n",
    "import torch.optim as optim"
   ]
  },
  {
   "cell_type": "code",
   "execution_count": 0,
   "metadata": {
    "colab": {},
    "colab_type": "code",
    "id": "A1lI12yvAIac"
   },
   "outputs": [],
   "source": []
  }
 ],
 "metadata": {
  "accelerator": "GPU",
  "colab": {
   "name": "분석 12기 6주차 과제.ipynb",
   "provenance": [],
   "version": "0.3.2"
  },
  "kernelspec": {
   "display_name": "Python 3",
   "language": "python",
   "name": "python3"
  },
  "language_info": {
   "codemirror_mode": {
    "name": "ipython",
    "version": 3
   },
   "file_extension": ".py",
   "mimetype": "text/x-python",
   "name": "python",
   "nbconvert_exporter": "python",
   "pygments_lexer": "ipython3",
   "version": "3.6.5"
  }
 },
 "nbformat": 4,
 "nbformat_minor": 1
}
